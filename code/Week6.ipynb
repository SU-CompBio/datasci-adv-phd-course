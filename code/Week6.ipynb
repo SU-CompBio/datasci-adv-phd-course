{
  "nbformat": 4,
  "nbformat_minor": 0,
  "metadata": {
    "colab": {
      "name": "Week6.ipynb",
      "provenance": [],
      "collapsed_sections": [],
      "toc_visible": true
    },
    "kernelspec": {
      "name": "python3",
      "display_name": "Python 3"
    }
  },
  "cells": [
    {
      "cell_type": "code",
      "metadata": {
        "id": "lux5l2hpRsPE"
      },
      "source": [
        "import pandas as pd\n",
        "import numpy as np\n",
        "\n",
        "from matplotlib import pyplot as plt\n",
        "import seaborn as sns\n",
        "\n",
        "from sklearn.decomposition import PCA\n",
        "import statsmodels.formula.api as smf"
      ],
      "execution_count": 3,
      "outputs": []
    },
    {
      "cell_type": "markdown",
      "metadata": {
        "id": "oXxoFK5RXCxN"
      },
      "source": [
        "### Functional analysis of transcriptomics data from SARS-CoV-2 infected cell lines\n",
        "\n",
        "Data is from [GSE147507](https://www.ncbi.nlm.nih.gov/geo/query/acc.cgi?acc=GSE147507)\n",
        "\n",
        "You need to upload the data files (from Google Drive link) to the *content* directory of your Colab enviroment. If you run this localy, you have to change the path to files according to your enviroment."
      ]
    },
    {
      "cell_type": "code",
      "metadata": {
        "id": "Gr6uQrl3Xupi"
      },
      "source": [
        "data = pd.read_csv('/content/GSE147507_RawReadCounts_Human.csv',\n",
        "                   sep=',', header=0, index_col=0)"
      ],
      "execution_count": 4,
      "outputs": []
    },
    {
      "cell_type": "code",
      "metadata": {
        "colab": {
          "base_uri": "https://localhost:8080/",
          "height": 224
        },
        "id": "tiawhlvFz5w6",
        "outputId": "05ba5e5a-1a0a-4a28-c779-7c3589c90409"
      },
      "source": [
        "data.head()"
      ],
      "execution_count": 5,
      "outputs": [
        {
          "output_type": "execute_result",
          "data": {
            "text/html": [
              "<div>\n",
              "<style scoped>\n",
              "    .dataframe tbody tr th:only-of-type {\n",
              "        vertical-align: middle;\n",
              "    }\n",
              "\n",
              "    .dataframe tbody tr th {\n",
              "        vertical-align: top;\n",
              "    }\n",
              "\n",
              "    .dataframe thead th {\n",
              "        text-align: right;\n",
              "    }\n",
              "</style>\n",
              "<table border=\"1\" class=\"dataframe\">\n",
              "  <thead>\n",
              "    <tr style=\"text-align: right;\">\n",
              "      <th></th>\n",
              "      <th>GSM4432378</th>\n",
              "      <th>GSM4432379</th>\n",
              "      <th>GSM4432380</th>\n",
              "      <th>GSM4432381</th>\n",
              "      <th>GSM4432382</th>\n",
              "      <th>GSM4432383</th>\n",
              "      <th>GSM4432384</th>\n",
              "      <th>GSM4432385</th>\n",
              "      <th>GSM4432386</th>\n",
              "      <th>GSM4432387</th>\n",
              "      <th>GSM4432388</th>\n",
              "      <th>GSM4432389</th>\n",
              "      <th>GSM4432390</th>\n",
              "      <th>GSM4432391</th>\n",
              "      <th>GSM4432392</th>\n",
              "      <th>GSM4432393</th>\n",
              "      <th>GSM4432394</th>\n",
              "      <th>GSM4432395</th>\n",
              "      <th>GSM4432396</th>\n",
              "      <th>GSM4432397</th>\n",
              "      <th>GSM4462336</th>\n",
              "      <th>GSM4462337</th>\n",
              "      <th>GSM4462338</th>\n",
              "      <th>GSM4462339</th>\n",
              "      <th>GSM4462340</th>\n",
              "      <th>GSM4462341</th>\n",
              "      <th>GSM4462342</th>\n",
              "      <th>GSM4462343</th>\n",
              "      <th>GSM4462344</th>\n",
              "      <th>GSM4462345</th>\n",
              "      <th>GSM4462346</th>\n",
              "      <th>GSM4462347</th>\n",
              "      <th>GSM4462348</th>\n",
              "      <th>GSM4462349</th>\n",
              "      <th>GSM4462350</th>\n",
              "      <th>GSM4462351</th>\n",
              "      <th>GSM4462352</th>\n",
              "      <th>GSM4462353</th>\n",
              "      <th>GSM4462354</th>\n",
              "      <th>GSM4462355</th>\n",
              "      <th>GSM4462356</th>\n",
              "      <th>GSM4462357</th>\n",
              "      <th>GSM4462358</th>\n",
              "      <th>GSM4462359</th>\n",
              "      <th>GSM4462360</th>\n",
              "      <th>GSM4462361</th>\n",
              "      <th>GSM4462362</th>\n",
              "      <th>GSM4462363</th>\n",
              "      <th>GSM4462364</th>\n",
              "      <th>GSM4462365</th>\n",
              "      <th>GSM4462366</th>\n",
              "      <th>GSM4462367</th>\n",
              "      <th>GSM4462368</th>\n",
              "      <th>GSM4462369</th>\n",
              "      <th>GSM4462370</th>\n",
              "      <th>GSM4462371</th>\n",
              "      <th>GSM4462372</th>\n",
              "      <th>GSM4462373</th>\n",
              "      <th>GSM4462374</th>\n",
              "      <th>GSM4462375</th>\n",
              "      <th>GSM4462376</th>\n",
              "      <th>GSM4462377</th>\n",
              "      <th>GSM4462378</th>\n",
              "      <th>GSM4462379</th>\n",
              "      <th>GSM4462380</th>\n",
              "      <th>GSM4462413</th>\n",
              "      <th>GSM4462414</th>\n",
              "      <th>GSM4462415</th>\n",
              "      <th>GSM4462416</th>\n",
              "    </tr>\n",
              "  </thead>\n",
              "  <tbody>\n",
              "    <tr>\n",
              "      <th>DDX11L1</th>\n",
              "      <td>0</td>\n",
              "      <td>0</td>\n",
              "      <td>0</td>\n",
              "      <td>0</td>\n",
              "      <td>0</td>\n",
              "      <td>0</td>\n",
              "      <td>0</td>\n",
              "      <td>0</td>\n",
              "      <td>0</td>\n",
              "      <td>0</td>\n",
              "      <td>1</td>\n",
              "      <td>1</td>\n",
              "      <td>1</td>\n",
              "      <td>0</td>\n",
              "      <td>0</td>\n",
              "      <td>0</td>\n",
              "      <td>0</td>\n",
              "      <td>0</td>\n",
              "      <td>0</td>\n",
              "      <td>0</td>\n",
              "      <td>0</td>\n",
              "      <td>0</td>\n",
              "      <td>0</td>\n",
              "      <td>0</td>\n",
              "      <td>0</td>\n",
              "      <td>0</td>\n",
              "      <td>0</td>\n",
              "      <td>0</td>\n",
              "      <td>0</td>\n",
              "      <td>0</td>\n",
              "      <td>0</td>\n",
              "      <td>0</td>\n",
              "      <td>0</td>\n",
              "      <td>0</td>\n",
              "      <td>0</td>\n",
              "      <td>1</td>\n",
              "      <td>0</td>\n",
              "      <td>0</td>\n",
              "      <td>0</td>\n",
              "      <td>0</td>\n",
              "      <td>0</td>\n",
              "      <td>0</td>\n",
              "      <td>0</td>\n",
              "      <td>1</td>\n",
              "      <td>0</td>\n",
              "      <td>0</td>\n",
              "      <td>0</td>\n",
              "      <td>0</td>\n",
              "      <td>0</td>\n",
              "      <td>0</td>\n",
              "      <td>0</td>\n",
              "      <td>0</td>\n",
              "      <td>0</td>\n",
              "      <td>0</td>\n",
              "      <td>0</td>\n",
              "      <td>0</td>\n",
              "      <td>0</td>\n",
              "      <td>0</td>\n",
              "      <td>0</td>\n",
              "      <td>0</td>\n",
              "      <td>0</td>\n",
              "      <td>0</td>\n",
              "      <td>0</td>\n",
              "      <td>0</td>\n",
              "      <td>0</td>\n",
              "      <td>0</td>\n",
              "      <td>0</td>\n",
              "      <td>0</td>\n",
              "      <td>0</td>\n",
              "    </tr>\n",
              "    <tr>\n",
              "      <th>WASH7P</th>\n",
              "      <td>29</td>\n",
              "      <td>24</td>\n",
              "      <td>23</td>\n",
              "      <td>34</td>\n",
              "      <td>19</td>\n",
              "      <td>44</td>\n",
              "      <td>68</td>\n",
              "      <td>43</td>\n",
              "      <td>33</td>\n",
              "      <td>65</td>\n",
              "      <td>79</td>\n",
              "      <td>48</td>\n",
              "      <td>184</td>\n",
              "      <td>128</td>\n",
              "      <td>51</td>\n",
              "      <td>43</td>\n",
              "      <td>15</td>\n",
              "      <td>12</td>\n",
              "      <td>3</td>\n",
              "      <td>3</td>\n",
              "      <td>64</td>\n",
              "      <td>53</td>\n",
              "      <td>37</td>\n",
              "      <td>38</td>\n",
              "      <td>47</td>\n",
              "      <td>65</td>\n",
              "      <td>37</td>\n",
              "      <td>4</td>\n",
              "      <td>22</td>\n",
              "      <td>1</td>\n",
              "      <td>2</td>\n",
              "      <td>4</td>\n",
              "      <td>25</td>\n",
              "      <td>60</td>\n",
              "      <td>84</td>\n",
              "      <td>47</td>\n",
              "      <td>32</td>\n",
              "      <td>41</td>\n",
              "      <td>68</td>\n",
              "      <td>17</td>\n",
              "      <td>21</td>\n",
              "      <td>18</td>\n",
              "      <td>9</td>\n",
              "      <td>28</td>\n",
              "      <td>14</td>\n",
              "      <td>23</td>\n",
              "      <td>12</td>\n",
              "      <td>57</td>\n",
              "      <td>58</td>\n",
              "      <td>53</td>\n",
              "      <td>89</td>\n",
              "      <td>102</td>\n",
              "      <td>26</td>\n",
              "      <td>21</td>\n",
              "      <td>7</td>\n",
              "      <td>41</td>\n",
              "      <td>56</td>\n",
              "      <td>36</td>\n",
              "      <td>131</td>\n",
              "      <td>72</td>\n",
              "      <td>66</td>\n",
              "      <td>46</td>\n",
              "      <td>35</td>\n",
              "      <td>48</td>\n",
              "      <td>46</td>\n",
              "      <td>140</td>\n",
              "      <td>261</td>\n",
              "      <td>0</td>\n",
              "      <td>0</td>\n",
              "    </tr>\n",
              "    <tr>\n",
              "      <th>FAM138A</th>\n",
              "      <td>0</td>\n",
              "      <td>0</td>\n",
              "      <td>0</td>\n",
              "      <td>0</td>\n",
              "      <td>0</td>\n",
              "      <td>0</td>\n",
              "      <td>0</td>\n",
              "      <td>0</td>\n",
              "      <td>0</td>\n",
              "      <td>0</td>\n",
              "      <td>0</td>\n",
              "      <td>0</td>\n",
              "      <td>0</td>\n",
              "      <td>0</td>\n",
              "      <td>0</td>\n",
              "      <td>0</td>\n",
              "      <td>0</td>\n",
              "      <td>0</td>\n",
              "      <td>0</td>\n",
              "      <td>0</td>\n",
              "      <td>0</td>\n",
              "      <td>0</td>\n",
              "      <td>0</td>\n",
              "      <td>0</td>\n",
              "      <td>0</td>\n",
              "      <td>0</td>\n",
              "      <td>0</td>\n",
              "      <td>0</td>\n",
              "      <td>0</td>\n",
              "      <td>0</td>\n",
              "      <td>0</td>\n",
              "      <td>0</td>\n",
              "      <td>0</td>\n",
              "      <td>0</td>\n",
              "      <td>0</td>\n",
              "      <td>0</td>\n",
              "      <td>0</td>\n",
              "      <td>0</td>\n",
              "      <td>0</td>\n",
              "      <td>0</td>\n",
              "      <td>0</td>\n",
              "      <td>0</td>\n",
              "      <td>0</td>\n",
              "      <td>0</td>\n",
              "      <td>0</td>\n",
              "      <td>0</td>\n",
              "      <td>0</td>\n",
              "      <td>0</td>\n",
              "      <td>0</td>\n",
              "      <td>0</td>\n",
              "      <td>0</td>\n",
              "      <td>0</td>\n",
              "      <td>0</td>\n",
              "      <td>0</td>\n",
              "      <td>0</td>\n",
              "      <td>0</td>\n",
              "      <td>0</td>\n",
              "      <td>0</td>\n",
              "      <td>0</td>\n",
              "      <td>0</td>\n",
              "      <td>0</td>\n",
              "      <td>0</td>\n",
              "      <td>0</td>\n",
              "      <td>0</td>\n",
              "      <td>0</td>\n",
              "      <td>0</td>\n",
              "      <td>0</td>\n",
              "      <td>0</td>\n",
              "      <td>0</td>\n",
              "    </tr>\n",
              "    <tr>\n",
              "      <th>FAM138F</th>\n",
              "      <td>0</td>\n",
              "      <td>0</td>\n",
              "      <td>0</td>\n",
              "      <td>0</td>\n",
              "      <td>0</td>\n",
              "      <td>0</td>\n",
              "      <td>0</td>\n",
              "      <td>0</td>\n",
              "      <td>0</td>\n",
              "      <td>0</td>\n",
              "      <td>0</td>\n",
              "      <td>0</td>\n",
              "      <td>0</td>\n",
              "      <td>0</td>\n",
              "      <td>0</td>\n",
              "      <td>0</td>\n",
              "      <td>0</td>\n",
              "      <td>0</td>\n",
              "      <td>0</td>\n",
              "      <td>0</td>\n",
              "      <td>0</td>\n",
              "      <td>0</td>\n",
              "      <td>0</td>\n",
              "      <td>0</td>\n",
              "      <td>0</td>\n",
              "      <td>0</td>\n",
              "      <td>0</td>\n",
              "      <td>0</td>\n",
              "      <td>0</td>\n",
              "      <td>0</td>\n",
              "      <td>0</td>\n",
              "      <td>0</td>\n",
              "      <td>0</td>\n",
              "      <td>0</td>\n",
              "      <td>0</td>\n",
              "      <td>0</td>\n",
              "      <td>0</td>\n",
              "      <td>0</td>\n",
              "      <td>0</td>\n",
              "      <td>0</td>\n",
              "      <td>0</td>\n",
              "      <td>0</td>\n",
              "      <td>0</td>\n",
              "      <td>0</td>\n",
              "      <td>0</td>\n",
              "      <td>0</td>\n",
              "      <td>0</td>\n",
              "      <td>0</td>\n",
              "      <td>0</td>\n",
              "      <td>0</td>\n",
              "      <td>0</td>\n",
              "      <td>0</td>\n",
              "      <td>0</td>\n",
              "      <td>0</td>\n",
              "      <td>0</td>\n",
              "      <td>0</td>\n",
              "      <td>0</td>\n",
              "      <td>0</td>\n",
              "      <td>0</td>\n",
              "      <td>0</td>\n",
              "      <td>0</td>\n",
              "      <td>0</td>\n",
              "      <td>0</td>\n",
              "      <td>0</td>\n",
              "      <td>0</td>\n",
              "      <td>0</td>\n",
              "      <td>0</td>\n",
              "      <td>0</td>\n",
              "      <td>0</td>\n",
              "    </tr>\n",
              "    <tr>\n",
              "      <th>OR4F5</th>\n",
              "      <td>0</td>\n",
              "      <td>0</td>\n",
              "      <td>0</td>\n",
              "      <td>0</td>\n",
              "      <td>0</td>\n",
              "      <td>0</td>\n",
              "      <td>0</td>\n",
              "      <td>0</td>\n",
              "      <td>0</td>\n",
              "      <td>0</td>\n",
              "      <td>0</td>\n",
              "      <td>0</td>\n",
              "      <td>0</td>\n",
              "      <td>0</td>\n",
              "      <td>0</td>\n",
              "      <td>0</td>\n",
              "      <td>0</td>\n",
              "      <td>0</td>\n",
              "      <td>0</td>\n",
              "      <td>0</td>\n",
              "      <td>0</td>\n",
              "      <td>0</td>\n",
              "      <td>0</td>\n",
              "      <td>0</td>\n",
              "      <td>0</td>\n",
              "      <td>0</td>\n",
              "      <td>0</td>\n",
              "      <td>0</td>\n",
              "      <td>0</td>\n",
              "      <td>0</td>\n",
              "      <td>0</td>\n",
              "      <td>0</td>\n",
              "      <td>0</td>\n",
              "      <td>0</td>\n",
              "      <td>0</td>\n",
              "      <td>0</td>\n",
              "      <td>0</td>\n",
              "      <td>0</td>\n",
              "      <td>0</td>\n",
              "      <td>0</td>\n",
              "      <td>0</td>\n",
              "      <td>0</td>\n",
              "      <td>0</td>\n",
              "      <td>0</td>\n",
              "      <td>0</td>\n",
              "      <td>0</td>\n",
              "      <td>0</td>\n",
              "      <td>0</td>\n",
              "      <td>0</td>\n",
              "      <td>0</td>\n",
              "      <td>0</td>\n",
              "      <td>0</td>\n",
              "      <td>0</td>\n",
              "      <td>0</td>\n",
              "      <td>0</td>\n",
              "      <td>0</td>\n",
              "      <td>0</td>\n",
              "      <td>0</td>\n",
              "      <td>0</td>\n",
              "      <td>0</td>\n",
              "      <td>0</td>\n",
              "      <td>0</td>\n",
              "      <td>0</td>\n",
              "      <td>0</td>\n",
              "      <td>0</td>\n",
              "      <td>0</td>\n",
              "      <td>0</td>\n",
              "      <td>0</td>\n",
              "      <td>0</td>\n",
              "    </tr>\n",
              "  </tbody>\n",
              "</table>\n",
              "</div>"
            ],
            "text/plain": [
              "         GSM4432378  GSM4432379  GSM4432380  ...  GSM4462414  GSM4462415  GSM4462416\n",
              "DDX11L1           0           0           0  ...           0           0           0\n",
              "WASH7P           29          24          23  ...         261           0           0\n",
              "FAM138A           0           0           0  ...           0           0           0\n",
              "FAM138F           0           0           0  ...           0           0           0\n",
              "OR4F5             0           0           0  ...           0           0           0\n",
              "\n",
              "[5 rows x 69 columns]"
            ]
          },
          "metadata": {
            "tags": []
          },
          "execution_count": 5
        }
      ]
    },
    {
      "cell_type": "code",
      "metadata": {
        "id": "MoTd3MA10BQh"
      },
      "source": [
        "meta = pd.read_csv('/content/meta.csv', \n",
        "                   sep=',', header=0, index_col=0)"
      ],
      "execution_count": 6,
      "outputs": []
    },
    {
      "cell_type": "code",
      "metadata": {
        "colab": {
          "base_uri": "https://localhost:8080/",
          "height": 235
        },
        "id": "Vns8h9ij0JZ6",
        "outputId": "6b1d04c2-4999-4753-d57b-5de0ac01c2c9"
      },
      "source": [
        "meta.head()"
      ],
      "execution_count": 7,
      "outputs": [
        {
          "output_type": "execute_result",
          "data": {
            "text/html": [
              "<div>\n",
              "<style scoped>\n",
              "    .dataframe tbody tr th:only-of-type {\n",
              "        vertical-align: middle;\n",
              "    }\n",
              "\n",
              "    .dataframe tbody tr th {\n",
              "        vertical-align: top;\n",
              "    }\n",
              "\n",
              "    .dataframe thead th {\n",
              "        text-align: right;\n",
              "    }\n",
              "</style>\n",
              "<table border=\"1\" class=\"dataframe\">\n",
              "  <thead>\n",
              "    <tr style=\"text-align: right;\">\n",
              "      <th></th>\n",
              "      <th>ID</th>\n",
              "      <th>Series</th>\n",
              "      <th>Replicate</th>\n",
              "      <th>Cell</th>\n",
              "      <th>Treatment</th>\n",
              "    </tr>\n",
              "    <tr>\n",
              "      <th>!Sample_geo_accession</th>\n",
              "      <th></th>\n",
              "      <th></th>\n",
              "      <th></th>\n",
              "      <th></th>\n",
              "      <th></th>\n",
              "    </tr>\n",
              "  </thead>\n",
              "  <tbody>\n",
              "    <tr>\n",
              "      <th>GSM4432378</th>\n",
              "      <td>Series1_NHBE_Mock_1</td>\n",
              "      <td>Series1</td>\n",
              "      <td>1</td>\n",
              "      <td>NHBE</td>\n",
              "      <td>Mock</td>\n",
              "    </tr>\n",
              "    <tr>\n",
              "      <th>GSM4432379</th>\n",
              "      <td>Series1_NHBE_Mock_2</td>\n",
              "      <td>Series1</td>\n",
              "      <td>2</td>\n",
              "      <td>NHBE</td>\n",
              "      <td>Mock</td>\n",
              "    </tr>\n",
              "    <tr>\n",
              "      <th>GSM4432380</th>\n",
              "      <td>Series1_NHBE_Mock_3</td>\n",
              "      <td>Series1</td>\n",
              "      <td>3</td>\n",
              "      <td>NHBE</td>\n",
              "      <td>Mock</td>\n",
              "    </tr>\n",
              "    <tr>\n",
              "      <th>GSM4432381</th>\n",
              "      <td>Series1_NHBE_SARS-CoV-2_1</td>\n",
              "      <td>Series1</td>\n",
              "      <td>1</td>\n",
              "      <td>NHBE</td>\n",
              "      <td>SARS-CoV-2</td>\n",
              "    </tr>\n",
              "    <tr>\n",
              "      <th>GSM4432382</th>\n",
              "      <td>Series1_NHBE_SARS-CoV-2_2</td>\n",
              "      <td>Series1</td>\n",
              "      <td>2</td>\n",
              "      <td>NHBE</td>\n",
              "      <td>SARS-CoV-2</td>\n",
              "    </tr>\n",
              "  </tbody>\n",
              "</table>\n",
              "</div>"
            ],
            "text/plain": [
              "                                              ID   Series  ...  Cell   Treatment\n",
              "!Sample_geo_accession                                      ...                  \n",
              "GSM4432378                   Series1_NHBE_Mock_1  Series1  ...  NHBE        Mock\n",
              "GSM4432379                   Series1_NHBE_Mock_2  Series1  ...  NHBE        Mock\n",
              "GSM4432380                   Series1_NHBE_Mock_3  Series1  ...  NHBE        Mock\n",
              "GSM4432381             Series1_NHBE_SARS-CoV-2_1  Series1  ...  NHBE  SARS-CoV-2\n",
              "GSM4432382             Series1_NHBE_SARS-CoV-2_2  Series1  ...  NHBE  SARS-CoV-2\n",
              "\n",
              "[5 rows x 5 columns]"
            ]
          },
          "metadata": {
            "tags": []
          },
          "execution_count": 7
        }
      ]
    },
    {
      "cell_type": "code",
      "metadata": {
        "colab": {
          "base_uri": "https://localhost:8080/"
        },
        "id": "HZA626gR0UwB",
        "outputId": "fc80ea12-d2c6-4002-cac0-789972f67bd5"
      },
      "source": [
        "np.sum(meta.index != data.columns)"
      ],
      "execution_count": 8,
      "outputs": [
        {
          "output_type": "execute_result",
          "data": {
            "text/plain": [
              "0"
            ]
          },
          "metadata": {
            "tags": []
          },
          "execution_count": 8
        }
      ]
    },
    {
      "cell_type": "code",
      "metadata": {
        "colab": {
          "base_uri": "https://localhost:8080/"
        },
        "id": "IkAwpykl0i5Q",
        "outputId": "d68f86cf-5b43-4054-90a0-22d0f56b10b6"
      },
      "source": [
        "meta['Cell'].value_counts()"
      ],
      "execution_count": 9,
      "outputs": [
        {
          "output_type": "execute_result",
          "data": {
            "text/plain": [
              "A549         29\n",
              "NHBE         24\n",
              "A549-ACE2     6\n",
              "Calu3         6\n",
              "Lung          4\n",
              "Name: Cell, dtype: int64"
            ]
          },
          "metadata": {
            "tags": []
          },
          "execution_count": 9
        }
      ]
    },
    {
      "cell_type": "code",
      "metadata": {
        "colab": {
          "base_uri": "https://localhost:8080/"
        },
        "id": "dADWtg-m0t2u",
        "outputId": "da90d360-7184-43f2-ac8c-1acc5d93edd2"
      },
      "source": [
        "meta['Treatment'].value_counts()"
      ],
      "execution_count": 10,
      "outputs": [
        {
          "output_type": "execute_result",
          "data": {
            "text/plain": [
              "Mock          26\n",
              "SARS-CoV-2    15\n",
              "IAV            6\n",
              "IFNB           6\n",
              "RSV            5\n",
              "IAVdNS1        4\n",
              "HPIV3          3\n",
              "Helathy        2\n",
              "COVID          2\n",
              "Name: Treatment, dtype: int64"
            ]
          },
          "metadata": {
            "tags": []
          },
          "execution_count": 10
        }
      ]
    },
    {
      "cell_type": "markdown",
      "metadata": {
        "id": "VHlZ3CF0Xpdx"
      },
      "source": [
        "### Basic exploratory analysis with PCA"
      ]
    },
    {
      "cell_type": "code",
      "metadata": {
        "id": "5hSZ328uXQVl",
        "colab": {
          "base_uri": "https://localhost:8080/",
          "height": 333
        },
        "outputId": "af3de836-2ffc-4024-9b1a-a9fcd7c2a2ce"
      },
      "source": [
        "plt.hist(data.loc['WASH7P'])"
      ],
      "execution_count": 11,
      "outputs": [
        {
          "output_type": "execute_result",
          "data": {
            "text/plain": [
              "(array([25., 22., 13.,  4.,  1.,  2.,  0.,  1.,  0.,  1.]),\n",
              " array([  0. ,  26.1,  52.2,  78.3, 104.4, 130.5, 156.6, 182.7, 208.8,\n",
              "        234.9, 261. ]),\n",
              " <a list of 10 Patch objects>)"
            ]
          },
          "metadata": {
            "tags": []
          },
          "execution_count": 11
        },
        {
          "output_type": "display_data",
          "data": {
            "image/png": "[encoded data removed]",
            "text/plain": [
              "<Figure size 432x288 with 1 Axes>"
            ]
          },
          "metadata": {
            "tags": [],
            "needs_background": "light"
          }
        }
      ]
    },
    {
      "cell_type": "code",
      "metadata": {
        "colab": {
          "base_uri": "https://localhost:8080/",
          "height": 350
        },
        "id": "DPCrOnk51SQl",
        "outputId": "2fbece29-6ba0-4f36-be34-7c60b6cdabfa"
      },
      "source": [
        "sns.scatterplot(data.loc['WASH7P'], data.loc['STAT1'])"
      ],
      "execution_count": 12,
      "outputs": [
        {
          "output_type": "stream",
          "text": [
            "/usr/local/lib/python3.7/dist-packages/seaborn/_decorators.py:43: FutureWarning: Pass the following variables as keyword args: x, y. From version 0.12, the only valid positional argument will be `data`, and passing other arguments without an explicit keyword will result in an error or misinterpretation.\n",
            "  FutureWarning\n"
          ],
          "name": "stderr"
        },
        {
          "output_type": "execute_result",
          "data": {
            "text/plain": [
              "<matplotlib.axes._subplots.AxesSubplot at 0x7f805f699790>"
            ]
          },
          "metadata": {
            "tags": []
          },
          "execution_count": 12
        },
        {
          "output_type": "display_data",
          "data": {
            "image/png": "[encoded data removed]",
            "text/plain": [
              "<Figure size 432x288 with 1 Axes>"
            ]
          },
          "metadata": {
            "tags": [],
            "needs_background": "light"
          }
        }
      ]
    },
    {
      "cell_type": "code",
      "metadata": {
        "colab": {
          "base_uri": "https://localhost:8080/",
          "height": 333
        },
        "id": "nt6RhIpC1mIr",
        "outputId": "905f3f6b-17a7-4c6f-dfc3-3b2ce2d95cab"
      },
      "source": [
        "plt.hist(data.loc['STAT1'])"
      ],
      "execution_count": 13,
      "outputs": [
        {
          "output_type": "execute_result",
          "data": {
            "text/plain": [
              "(array([31., 12., 10.,  6.,  4.,  2.,  0.,  3.,  0.,  1.]),\n",
              " array([   48. ,  2519.9,  4991.8,  7463.7,  9935.6, 12407.5, 14879.4,\n",
              "        17351.3, 19823.2, 22295.1, 24767. ]),\n",
              " <a list of 10 Patch objects>)"
            ]
          },
          "metadata": {
            "tags": []
          },
          "execution_count": 13
        },
        {
          "output_type": "display_data",
          "data": {
            "image/png": "[encoded data removed]",
            "text/plain": [
              "<Figure size 432x288 with 1 Axes>"
            ]
          },
          "metadata": {
            "tags": [],
            "needs_background": "light"
          }
        }
      ]
    },
    {
      "cell_type": "code",
      "metadata": {
        "id": "eWedqXTd1y9O"
      },
      "source": [
        "data_log = np.log2(data+1)"
      ],
      "execution_count": 14,
      "outputs": []
    },
    {
      "cell_type": "code",
      "metadata": {
        "colab": {
          "base_uri": "https://localhost:8080/",
          "height": 350
        },
        "id": "P7gr-AKx2Cp1",
        "outputId": "99cda2b9-9cbb-4a27-d5e7-585aaf246a2b"
      },
      "source": [
        "plt.hist(data_log.loc['STAT1'])"
      ],
      "execution_count": 15,
      "outputs": [
        {
          "output_type": "execute_result",
          "data": {
            "text/plain": [
              "(array([ 1.,  1.,  0.,  7.,  2., 16., 10., 16., 10.,  6.]),\n",
              " array([ 5.61470984,  6.51285784,  7.41100583,  8.30915382,  9.20730181,\n",
              "        10.1054498 , 11.00359779, 11.90174578, 12.79989377, 13.69804176,\n",
              "        14.59618976]),\n",
              " <a list of 10 Patch objects>)"
            ]
          },
          "metadata": {
            "tags": []
          },
          "execution_count": 15
        },
        {
          "output_type": "display_data",
          "data": {
            "image/png": "[encoded data removed]",
            "text/plain": [
              "<Figure size 432x288 with 1 Axes>"
            ]
          },
          "metadata": {
            "tags": [],
            "needs_background": "light"
          }
        }
      ]
    },
    {
      "cell_type": "code",
      "metadata": {
        "colab": {
          "base_uri": "https://localhost:8080/"
        },
        "id": "uXZab78l2Mob",
        "outputId": "3dd11aec-5475-4a99-f00a-3838d574e0cf"
      },
      "source": [
        "data.shape"
      ],
      "execution_count": 16,
      "outputs": [
        {
          "output_type": "execute_result",
          "data": {
            "text/plain": [
              "(21797, 69)"
            ]
          },
          "metadata": {
            "tags": []
          },
          "execution_count": 16
        }
      ]
    },
    {
      "cell_type": "code",
      "metadata": {
        "id": "n-i5PT5O2hxK"
      },
      "source": [
        "model = PCA(2)"
      ],
      "execution_count": 17,
      "outputs": []
    },
    {
      "cell_type": "code",
      "metadata": {
        "id": "IcxJcBK52qmG"
      },
      "source": [
        "data_pca = model.fit_transform(data_log.T)"
      ],
      "execution_count": 18,
      "outputs": []
    },
    {
      "cell_type": "code",
      "metadata": {
        "id": "Tk_jkvpW24NI"
      },
      "source": [
        "data_pca = pd.DataFrame(data_pca, index=data_log.columns, columns=['PC1', 'PC2'])"
      ],
      "execution_count": 19,
      "outputs": []
    },
    {
      "cell_type": "code",
      "metadata": {
        "colab": {
          "base_uri": "https://localhost:8080/",
          "height": 204
        },
        "id": "mGdrt-XP3K7P",
        "outputId": "bf545068-b078-409e-a565-a22a615f09a9"
      },
      "source": [
        "data_pca.head()"
      ],
      "execution_count": 20,
      "outputs": [
        {
          "output_type": "execute_result",
          "data": {
            "text/html": [
              "<div>\n",
              "<style scoped>\n",
              "    .dataframe tbody tr th:only-of-type {\n",
              "        vertical-align: middle;\n",
              "    }\n",
              "\n",
              "    .dataframe tbody tr th {\n",
              "        vertical-align: top;\n",
              "    }\n",
              "\n",
              "    .dataframe thead th {\n",
              "        text-align: right;\n",
              "    }\n",
              "</style>\n",
              "<table border=\"1\" class=\"dataframe\">\n",
              "  <thead>\n",
              "    <tr style=\"text-align: right;\">\n",
              "      <th></th>\n",
              "      <th>PC1</th>\n",
              "      <th>PC2</th>\n",
              "    </tr>\n",
              "  </thead>\n",
              "  <tbody>\n",
              "    <tr>\n",
              "      <th>GSM4432378</th>\n",
              "      <td>-13.690608</td>\n",
              "      <td>147.296348</td>\n",
              "    </tr>\n",
              "    <tr>\n",
              "      <th>GSM4432379</th>\n",
              "      <td>-6.671994</td>\n",
              "      <td>145.076016</td>\n",
              "    </tr>\n",
              "    <tr>\n",
              "      <th>GSM4432380</th>\n",
              "      <td>-81.084610</td>\n",
              "      <td>163.530645</td>\n",
              "    </tr>\n",
              "    <tr>\n",
              "      <th>GSM4432381</th>\n",
              "      <td>1.062988</td>\n",
              "      <td>145.362777</td>\n",
              "    </tr>\n",
              "    <tr>\n",
              "      <th>GSM4432382</th>\n",
              "      <td>9.187713</td>\n",
              "      <td>145.939652</td>\n",
              "    </tr>\n",
              "  </tbody>\n",
              "</table>\n",
              "</div>"
            ],
            "text/plain": [
              "                  PC1         PC2\n",
              "GSM4432378 -13.690608  147.296348\n",
              "GSM4432379  -6.671994  145.076016\n",
              "GSM4432380 -81.084610  163.530645\n",
              "GSM4432381   1.062988  145.362777\n",
              "GSM4432382   9.187713  145.939652"
            ]
          },
          "metadata": {
            "tags": []
          },
          "execution_count": 20
        }
      ]
    },
    {
      "cell_type": "code",
      "metadata": {
        "colab": {
          "base_uri": "https://localhost:8080/",
          "height": 298
        },
        "id": "Lla2VIhZ3NpE",
        "outputId": "a827ad37-42db-4b57-e3bc-f72cde9b03a3"
      },
      "source": [
        "sns.scatterplot(x=data_pca['PC1'], y=data_pca['PC2'], hue=meta['Cell'])"
      ],
      "execution_count": 21,
      "outputs": [
        {
          "output_type": "execute_result",
          "data": {
            "text/plain": [
              "<matplotlib.axes._subplots.AxesSubplot at 0x7f805eded1d0>"
            ]
          },
          "metadata": {
            "tags": []
          },
          "execution_count": 21
        },
        {
          "output_type": "display_data",
          "data": {
            "image/png": "[encoded data removed]",
            "text/plain": [
              "<Figure size 432x288 with 1 Axes>"
            ]
          },
          "metadata": {
            "tags": [],
            "needs_background": "light"
          }
        }
      ]
    },
    {
      "cell_type": "code",
      "metadata": {
        "colab": {
          "base_uri": "https://localhost:8080/",
          "height": 298
        },
        "id": "6Wo6FA3s3zca",
        "outputId": "b9b26f8a-0ed7-40fc-d6df-ddfcc8fb24bb"
      },
      "source": [
        "sns.scatterplot(x=data_pca['PC1'], y=data_pca['PC2'], hue=meta['Treatment'])"
      ],
      "execution_count": 22,
      "outputs": [
        {
          "output_type": "execute_result",
          "data": {
            "text/plain": [
              "<matplotlib.axes._subplots.AxesSubplot at 0x7f8053d42210>"
            ]
          },
          "metadata": {
            "tags": []
          },
          "execution_count": 22
        },
        {
          "output_type": "display_data",
          "data": {
            "image/png": "[encoded data removed]",
            "text/plain": [
              "<Figure size 432x288 with 1 Axes>"
            ]
          },
          "metadata": {
            "tags": [],
            "needs_background": "light"
          }
        }
      ]
    },
    {
      "cell_type": "code",
      "metadata": {
        "id": "oCilht5C3-A2"
      },
      "source": [
        "meta['Total_count'] = data.sum()"
      ],
      "execution_count": 23,
      "outputs": []
    },
    {
      "cell_type": "code",
      "metadata": {
        "colab": {
          "base_uri": "https://localhost:8080/",
          "height": 235
        },
        "id": "yLtuGDjE4L9p",
        "outputId": "83ff5491-545d-4722-a097-f8781ba296c4"
      },
      "source": [
        "meta.head()"
      ],
      "execution_count": 24,
      "outputs": [
        {
          "output_type": "execute_result",
          "data": {
            "text/html": [
              "<div>\n",
              "<style scoped>\n",
              "    .dataframe tbody tr th:only-of-type {\n",
              "        vertical-align: middle;\n",
              "    }\n",
              "\n",
              "    .dataframe tbody tr th {\n",
              "        vertical-align: top;\n",
              "    }\n",
              "\n",
              "    .dataframe thead th {\n",
              "        text-align: right;\n",
              "    }\n",
              "</style>\n",
              "<table border=\"1\" class=\"dataframe\">\n",
              "  <thead>\n",
              "    <tr style=\"text-align: right;\">\n",
              "      <th></th>\n",
              "      <th>ID</th>\n",
              "      <th>Series</th>\n",
              "      <th>Replicate</th>\n",
              "      <th>Cell</th>\n",
              "      <th>Treatment</th>\n",
              "      <th>Total_count</th>\n",
              "    </tr>\n",
              "    <tr>\n",
              "      <th>!Sample_geo_accession</th>\n",
              "      <th></th>\n",
              "      <th></th>\n",
              "      <th></th>\n",
              "      <th></th>\n",
              "      <th></th>\n",
              "      <th></th>\n",
              "    </tr>\n",
              "  </thead>\n",
              "  <tbody>\n",
              "    <tr>\n",
              "      <th>GSM4432378</th>\n",
              "      <td>Series1_NHBE_Mock_1</td>\n",
              "      <td>Series1</td>\n",
              "      <td>1</td>\n",
              "      <td>NHBE</td>\n",
              "      <td>Mock</td>\n",
              "      <td>11258863</td>\n",
              "    </tr>\n",
              "    <tr>\n",
              "      <th>GSM4432379</th>\n",
              "      <td>Series1_NHBE_Mock_2</td>\n",
              "      <td>Series1</td>\n",
              "      <td>2</td>\n",
              "      <td>NHBE</td>\n",
              "      <td>Mock</td>\n",
              "      <td>10256909</td>\n",
              "    </tr>\n",
              "    <tr>\n",
              "      <th>GSM4432380</th>\n",
              "      <td>Series1_NHBE_Mock_3</td>\n",
              "      <td>Series1</td>\n",
              "      <td>3</td>\n",
              "      <td>NHBE</td>\n",
              "      <td>Mock</td>\n",
              "      <td>16601859</td>\n",
              "    </tr>\n",
              "    <tr>\n",
              "      <th>GSM4432381</th>\n",
              "      <td>Series1_NHBE_SARS-CoV-2_1</td>\n",
              "      <td>Series1</td>\n",
              "      <td>1</td>\n",
              "      <td>NHBE</td>\n",
              "      <td>SARS-CoV-2</td>\n",
              "      <td>10195139</td>\n",
              "    </tr>\n",
              "    <tr>\n",
              "      <th>GSM4432382</th>\n",
              "      <td>Series1_NHBE_SARS-CoV-2_2</td>\n",
              "      <td>Series1</td>\n",
              "      <td>2</td>\n",
              "      <td>NHBE</td>\n",
              "      <td>SARS-CoV-2</td>\n",
              "      <td>9904002</td>\n",
              "    </tr>\n",
              "  </tbody>\n",
              "</table>\n",
              "</div>"
            ],
            "text/plain": [
              "                                              ID  ... Total_count\n",
              "!Sample_geo_accession                             ...            \n",
              "GSM4432378                   Series1_NHBE_Mock_1  ...    11258863\n",
              "GSM4432379                   Series1_NHBE_Mock_2  ...    10256909\n",
              "GSM4432380                   Series1_NHBE_Mock_3  ...    16601859\n",
              "GSM4432381             Series1_NHBE_SARS-CoV-2_1  ...    10195139\n",
              "GSM4432382             Series1_NHBE_SARS-CoV-2_2  ...     9904002\n",
              "\n",
              "[5 rows x 6 columns]"
            ]
          },
          "metadata": {
            "tags": []
          },
          "execution_count": 24
        }
      ]
    },
    {
      "cell_type": "code",
      "metadata": {
        "colab": {
          "base_uri": "https://localhost:8080/",
          "height": 298
        },
        "id": "ryQG-N9l4OWn",
        "outputId": "6bb760e0-1bfb-4880-fa7d-6d4aa0de365f"
      },
      "source": [
        "sns.scatterplot(x=data_pca['PC1'], y=data_pca['PC2'], hue=meta['Total_count'])"
      ],
      "execution_count": 25,
      "outputs": [
        {
          "output_type": "execute_result",
          "data": {
            "text/plain": [
              "<matplotlib.axes._subplots.AxesSubplot at 0x7f8053c51d10>"
            ]
          },
          "metadata": {
            "tags": []
          },
          "execution_count": 25
        },
        {
          "output_type": "display_data",
          "data": {
            "image/png": "[encoded data removed]",
            "text/plain": [
              "<Figure size 432x288 with 1 Axes>"
            ]
          },
          "metadata": {
            "tags": [],
            "needs_background": "light"
          }
        }
      ]
    },
    {
      "cell_type": "code",
      "metadata": {
        "id": "BYcBOpYj4hU1"
      },
      "source": [
        "### normalizálás\n",
        "data_norm = data / data.sum()"
      ],
      "execution_count": 26,
      "outputs": []
    },
    {
      "cell_type": "code",
      "metadata": {
        "colab": {
          "base_uri": "https://localhost:8080/"
        },
        "id": "Cyv75c9W4zPl",
        "outputId": "c8d9f4e3-e019-44c6-be5d-8bf57de5e162"
      },
      "source": [
        "data_norm.sum()"
      ],
      "execution_count": 27,
      "outputs": [
        {
          "output_type": "execute_result",
          "data": {
            "text/plain": [
              "GSM4432378    1.0\n",
              "GSM4432379    1.0\n",
              "GSM4432380    1.0\n",
              "GSM4432381    1.0\n",
              "GSM4432382    1.0\n",
              "             ... \n",
              "GSM4462380    1.0\n",
              "GSM4462413    1.0\n",
              "GSM4462414    1.0\n",
              "GSM4462415    1.0\n",
              "GSM4462416    1.0\n",
              "Length: 69, dtype: float64"
            ]
          },
          "metadata": {
            "tags": []
          },
          "execution_count": 27
        }
      ]
    },
    {
      "cell_type": "code",
      "metadata": {
        "id": "Rvymnr0947Gt"
      },
      "source": [
        "data_lognorm = np.log2(data_norm+1)"
      ],
      "execution_count": 28,
      "outputs": []
    },
    {
      "cell_type": "code",
      "metadata": {
        "id": "nrGlKlXU5BZX"
      },
      "source": [
        "model = PCA(2)\n",
        "data_pca = model.fit_transform(data_lognorm.T)\n",
        "data_pca = pd.DataFrame(data_pca, index=data_log.columns, columns=['PC1', 'PC2'])"
      ],
      "execution_count": 29,
      "outputs": []
    },
    {
      "cell_type": "code",
      "metadata": {
        "colab": {
          "base_uri": "https://localhost:8080/",
          "height": 296
        },
        "id": "cX6jjo8h5OFq",
        "outputId": "642213c1-4522-47fe-aace-a0bec6ab792c"
      },
      "source": [
        "sns.scatterplot(x=data_pca['PC1'], y=data_pca['PC2'], hue=meta['Cell'])"
      ],
      "execution_count": 30,
      "outputs": [
        {
          "output_type": "execute_result",
          "data": {
            "text/plain": [
              "<matplotlib.axes._subplots.AxesSubplot at 0x7f8053bd8150>"
            ]
          },
          "metadata": {
            "tags": []
          },
          "execution_count": 30
        },
        {
          "output_type": "display_data",
          "data": {
            "image/png": "[encoded data removed]",
            "text/plain": [
              "<Figure size 432x288 with 1 Axes>"
            ]
          },
          "metadata": {
            "tags": [],
            "needs_background": "light"
          }
        }
      ]
    },
    {
      "cell_type": "code",
      "metadata": {
        "colab": {
          "base_uri": "https://localhost:8080/",
          "height": 296
        },
        "id": "UXGcsG665TCX",
        "outputId": "feeea9dd-f3f3-4065-f2ae-a69c758c08d4"
      },
      "source": [
        "sns.scatterplot(x=data_pca['PC1'], y=data_pca['PC2'], hue=meta['Treatment'])"
      ],
      "execution_count": 31,
      "outputs": [
        {
          "output_type": "execute_result",
          "data": {
            "text/plain": [
              "<matplotlib.axes._subplots.AxesSubplot at 0x7f8053d0ef10>"
            ]
          },
          "metadata": {
            "tags": []
          },
          "execution_count": 31
        },
        {
          "output_type": "display_data",
          "data": {
            "image/png": "[encoded data removed]",
            "text/plain": [
              "<Figure size 432x288 with 1 Axes>"
            ]
          },
          "metadata": {
            "tags": [],
            "needs_background": "light"
          }
        }
      ]
    },
    {
      "cell_type": "code",
      "metadata": {
        "colab": {
          "base_uri": "https://localhost:8080/",
          "height": 296
        },
        "id": "ChBDGjKz5d9w",
        "outputId": "76f81d98-edc3-47ce-c9e6-925632390a9b"
      },
      "source": [
        "sns.scatterplot(x=data_pca['PC1'], y=data_pca['PC2'], hue=meta['Total_count'])"
      ],
      "execution_count": 32,
      "outputs": [
        {
          "output_type": "execute_result",
          "data": {
            "text/plain": [
              "<matplotlib.axes._subplots.AxesSubplot at 0x7f8053ab1110>"
            ]
          },
          "metadata": {
            "tags": []
          },
          "execution_count": 32
        },
        {
          "output_type": "display_data",
          "data": {
            "image/png": "[encoded data removed]",
            "text/plain": [
              "<Figure size 432x288 with 1 Axes>"
            ]
          },
          "metadata": {
            "tags": [],
            "needs_background": "light"
          }
        }
      ]
    },
    {
      "cell_type": "code",
      "metadata": {
        "id": "7J3PwI2R5onY"
      },
      "source": [
        "### mock / SARS-CoV-2\n",
        "fil = np.in1d(meta['Treatment'], ['Mock', 'SARS-CoV-2'])"
      ],
      "execution_count": 33,
      "outputs": []
    },
    {
      "cell_type": "code",
      "metadata": {
        "id": "UCsHFRN25-Oq"
      },
      "source": [
        "meta = meta[fil]\n",
        "data_lognorm = data_lognorm[meta.index]"
      ],
      "execution_count": 34,
      "outputs": []
    },
    {
      "cell_type": "code",
      "metadata": {
        "colab": {
          "base_uri": "https://localhost:8080/"
        },
        "id": "Ej9hvt7F6MjN",
        "outputId": "2b6bf4aa-c788-4c9b-ccbb-eb530ad89af1"
      },
      "source": [
        "meta.shape"
      ],
      "execution_count": 35,
      "outputs": [
        {
          "output_type": "execute_result",
          "data": {
            "text/plain": [
              "(41, 6)"
            ]
          },
          "metadata": {
            "tags": []
          },
          "execution_count": 35
        }
      ]
    },
    {
      "cell_type": "markdown",
      "metadata": {
        "id": "8hS4F5HNX1Xg"
      },
      "source": [
        "### Basics of statistical modelling"
      ]
    },
    {
      "cell_type": "code",
      "metadata": {
        "id": "fzvPxywOYtRF"
      },
      "source": [
        "toy = pd.DataFrame(index=['A','B','C','D','E','F'], columns=['Meas', 'Group'])\n",
        "toy['Group'] = ['A','A','A','B','B','B']\n",
        "np.random.seed(310)\n",
        "toy.loc[['A','B','C'], 'Meas'] = np.random.normal(0, 1, size=3)\n",
        "toy.loc[['D','E','F'], 'Meas'] = np.random.normal(2, 1, size=3)"
      ],
      "execution_count": 36,
      "outputs": []
    },
    {
      "cell_type": "code",
      "metadata": {
        "id": "QkYQkbhy7zzy"
      },
      "source": [
        "toy['Meas'] = toy['Meas'].astype(float)"
      ],
      "execution_count": 37,
      "outputs": []
    },
    {
      "cell_type": "code",
      "metadata": {
        "colab": {
          "base_uri": "https://localhost:8080/",
          "height": 235
        },
        "id": "yisyHbjV_YQM",
        "outputId": "fa473278-4e90-414a-d87c-4905e1e11692"
      },
      "source": [
        "toy"
      ],
      "execution_count": 38,
      "outputs": [
        {
          "output_type": "execute_result",
          "data": {
            "text/html": [
              "<div>\n",
              "<style scoped>\n",
              "    .dataframe tbody tr th:only-of-type {\n",
              "        vertical-align: middle;\n",
              "    }\n",
              "\n",
              "    .dataframe tbody tr th {\n",
              "        vertical-align: top;\n",
              "    }\n",
              "\n",
              "    .dataframe thead th {\n",
              "        text-align: right;\n",
              "    }\n",
              "</style>\n",
              "<table border=\"1\" class=\"dataframe\">\n",
              "  <thead>\n",
              "    <tr style=\"text-align: right;\">\n",
              "      <th></th>\n",
              "      <th>Meas</th>\n",
              "      <th>Group</th>\n",
              "    </tr>\n",
              "  </thead>\n",
              "  <tbody>\n",
              "    <tr>\n",
              "      <th>A</th>\n",
              "      <td>0.535345</td>\n",
              "      <td>A</td>\n",
              "    </tr>\n",
              "    <tr>\n",
              "      <th>B</th>\n",
              "      <td>1.011563</td>\n",
              "      <td>A</td>\n",
              "    </tr>\n",
              "    <tr>\n",
              "      <th>C</th>\n",
              "      <td>0.072301</td>\n",
              "      <td>A</td>\n",
              "    </tr>\n",
              "    <tr>\n",
              "      <th>D</th>\n",
              "      <td>2.310777</td>\n",
              "      <td>B</td>\n",
              "    </tr>\n",
              "    <tr>\n",
              "      <th>E</th>\n",
              "      <td>1.311854</td>\n",
              "      <td>B</td>\n",
              "    </tr>\n",
              "    <tr>\n",
              "      <th>F</th>\n",
              "      <td>3.039524</td>\n",
              "      <td>B</td>\n",
              "    </tr>\n",
              "  </tbody>\n",
              "</table>\n",
              "</div>"
            ],
            "text/plain": [
              "       Meas Group\n",
              "A  0.535345     A\n",
              "B  1.011563     A\n",
              "C  0.072301     A\n",
              "D  2.310777     B\n",
              "E  1.311854     B\n",
              "F  3.039524     B"
            ]
          },
          "metadata": {
            "tags": []
          },
          "execution_count": 38
        }
      ]
    },
    {
      "cell_type": "code",
      "metadata": {
        "id": "WJfYRQUj7HKD"
      },
      "source": [
        "from scipy.stats import ttest_ind"
      ],
      "execution_count": 39,
      "outputs": []
    },
    {
      "cell_type": "code",
      "metadata": {
        "colab": {
          "base_uri": "https://localhost:8080/"
        },
        "id": "nQSwfGPX73zt",
        "outputId": "a44d0843-9cee-4b31-a449-bd9d6ccda7b7"
      },
      "source": [
        "ttest_ind(toy.loc[['A','B','C'], 'Meas'], toy.loc[['D','E','F'], 'Meas'])"
      ],
      "execution_count": 40,
      "outputs": [
        {
          "output_type": "execute_result",
          "data": {
            "text/plain": [
              "Ttest_indResult(statistic=-2.9518758073398517, pvalue=0.04189116133418951)"
            ]
          },
          "metadata": {
            "tags": []
          },
          "execution_count": 40
        }
      ]
    },
    {
      "cell_type": "code",
      "metadata": {
        "id": "qU8jelye733l"
      },
      "source": [
        "model = smf.ols('Meas ~ Group', data=toy).fit()"
      ],
      "execution_count": 41,
      "outputs": []
    },
    {
      "cell_type": "code",
      "metadata": {
        "colab": {
          "base_uri": "https://localhost:8080/"
        },
        "id": "q3OwWOMv736M",
        "outputId": "424cc1cd-2faa-417c-810a-4c8272ee266c"
      },
      "source": [
        "model.params"
      ],
      "execution_count": 42,
      "outputs": [
        {
          "output_type": "execute_result",
          "data": {
            "text/plain": [
              "Intercept     0.539737\n",
              "Group[T.B]    1.680982\n",
              "dtype: float64"
            ]
          },
          "metadata": {
            "tags": []
          },
          "execution_count": 42
        }
      ]
    },
    {
      "cell_type": "code",
      "metadata": {
        "colab": {
          "base_uri": "https://localhost:8080/"
        },
        "id": "De6rbecM_GoW",
        "outputId": "61b9327f-bf8a-4411-a592-4b72c914a89f"
      },
      "source": [
        "model.pvalues"
      ],
      "execution_count": 43,
      "outputs": [
        {
          "output_type": "execute_result",
          "data": {
            "text/plain": [
              "Intercept     0.251185\n",
              "Group[T.B]    0.041891\n",
              "dtype: float64"
            ]
          },
          "metadata": {
            "tags": []
          },
          "execution_count": 43
        }
      ]
    },
    {
      "cell_type": "code",
      "metadata": {
        "id": "xjTKYbqDABCN"
      },
      "source": [
        "### genek"
      ],
      "execution_count": 44,
      "outputs": []
    },
    {
      "cell_type": "code",
      "metadata": {
        "id": "6CrlFK8BAMfA"
      },
      "source": [
        "### remove all 0s\n",
        "fil = data_lognorm.std(1) != 0.0\n",
        "data_lognorm = data_lognorm[fil]"
      ],
      "execution_count": 45,
      "outputs": []
    },
    {
      "cell_type": "code",
      "metadata": {
        "id": "MA0wIwOKAmTh"
      },
      "source": [
        "### sorok a mintak\n",
        "data_stat = pd.concat([data_lognorm.T, meta[['Cell','Treatment']]], 1)"
      ],
      "execution_count": 46,
      "outputs": []
    },
    {
      "cell_type": "code",
      "metadata": {
        "id": "soiYGhkPBEVz"
      },
      "source": [
        "model = smf.ols('STAT1 ~ Treatment', data=data_stat).fit()"
      ],
      "execution_count": 47,
      "outputs": []
    },
    {
      "cell_type": "code",
      "metadata": {
        "colab": {
          "base_uri": "https://localhost:8080/"
        },
        "id": "0N_CeuOABW6N",
        "outputId": "3b3bcbb0-2f23-46db-a0eb-298395082daf"
      },
      "source": [
        "model.params"
      ],
      "execution_count": 48,
      "outputs": [
        {
          "output_type": "execute_result",
          "data": {
            "text/plain": [
              "Intercept                  0.000254\n",
              "Treatment[T.SARS-CoV-2]    0.000509\n",
              "dtype: float64"
            ]
          },
          "metadata": {
            "tags": []
          },
          "execution_count": 48
        }
      ]
    },
    {
      "cell_type": "code",
      "metadata": {
        "colab": {
          "base_uri": "https://localhost:8080/"
        },
        "id": "k9FyZcUtBW9D",
        "outputId": "f9bc86ad-3135-475c-f2ee-9f60d4bb937b"
      },
      "source": [
        "model.pvalues"
      ],
      "execution_count": 49,
      "outputs": [
        {
          "output_type": "execute_result",
          "data": {
            "text/plain": [
              "Intercept                  0.000682\n",
              "Treatment[T.SARS-CoV-2]    0.000065\n",
              "dtype: float64"
            ]
          },
          "metadata": {
            "tags": []
          },
          "execution_count": 49
        }
      ]
    },
    {
      "cell_type": "code",
      "metadata": {
        "colab": {
          "base_uri": "https://localhost:8080/",
          "height": 296
        },
        "id": "W48-bJfmBXA0",
        "outputId": "a71f7dcb-1f01-482e-b4a2-f1506fdb6082"
      },
      "source": [
        "sns.boxplot(x=data_stat['Treatment'], y=data_stat['STAT1'])"
      ],
      "execution_count": 50,
      "outputs": [
        {
          "output_type": "execute_result",
          "data": {
            "text/plain": [
              "<matplotlib.axes._subplots.AxesSubplot at 0x7f805390bbd0>"
            ]
          },
          "metadata": {
            "tags": []
          },
          "execution_count": 50
        },
        {
          "output_type": "display_data",
          "data": {
            "image/png": "[encoded data removed]",
            "text/plain": [
              "<Figure size 432x288 with 1 Axes>"
            ]
          },
          "metadata": {
            "tags": [],
            "needs_background": "light"
          }
        }
      ]
    },
    {
      "cell_type": "code",
      "metadata": {
        "id": "dXt6uwalBXDt"
      },
      "source": [
        "model = smf.ols('STAT1 ~ Treatment + Cell + Treatment:Cell', data=data_stat).fit()\n"
      ],
      "execution_count": 51,
      "outputs": []
    },
    {
      "cell_type": "code",
      "metadata": {
        "colab": {
          "base_uri": "https://localhost:8080/"
        },
        "id": "x0qGf0dwCJqU",
        "outputId": "bfb1d3ae-0814-4a81-c457-475b20bf5dcb"
      },
      "source": [
        "model.pvalues"
      ],
      "execution_count": 52,
      "outputs": [
        {
          "output_type": "execute_result",
          "data": {
            "text/plain": [
              "Intercept                                    8.728626e-12\n",
              "Treatment[T.SARS-CoV-2]                      7.114736e-07\n",
              "Cell[T.A549-ACE2]                            3.525895e-01\n",
              "Cell[T.Calu3]                                5.786405e-01\n",
              "Cell[T.NHBE]                                 3.802461e-03\n",
              "Treatment[T.SARS-CoV-2]:Cell[T.A549-ACE2]    9.874523e-01\n",
              "Treatment[T.SARS-CoV-2]:Cell[T.Calu3]        5.024768e-14\n",
              "Treatment[T.SARS-CoV-2]:Cell[T.NHBE]         1.393664e-02\n",
              "dtype: float64"
            ]
          },
          "metadata": {
            "tags": []
          },
          "execution_count": 52
        }
      ]
    },
    {
      "cell_type": "code",
      "metadata": {
        "colab": {
          "base_uri": "https://localhost:8080/",
          "height": 296
        },
        "id": "ad1hD6xYCRE9",
        "outputId": "cc1b4b83-a89d-4862-c02d-953de20e4f5f"
      },
      "source": [
        "sns.boxplot(x=data_stat['Treatment'], y=data_stat['STAT1'], hue=meta['Cell'])"
      ],
      "execution_count": 53,
      "outputs": [
        {
          "output_type": "execute_result",
          "data": {
            "text/plain": [
              "<matplotlib.axes._subplots.AxesSubplot at 0x7f80538a5250>"
            ]
          },
          "metadata": {
            "tags": []
          },
          "execution_count": 53
        },
        {
          "output_type": "display_data",
          "data": {
            "image/png": "[encoded data removed]",
            "text/plain": [
              "<Figure size 432x288 with 1 Axes>"
            ]
          },
          "metadata": {
            "tags": [],
            "needs_background": "light"
          }
        }
      ]
    },
    {
      "cell_type": "code",
      "metadata": {
        "colab": {
          "base_uri": "https://localhost:8080/",
          "height": 386
        },
        "id": "OIS3N5HRDDFd",
        "outputId": "576d8a83-e5d5-464e-b5d2-eb36a61ed07c"
      },
      "source": [
        "data_stat.head()"
      ],
      "execution_count": 54,
      "outputs": [
        {
          "output_type": "execute_result",
          "data": {
            "text/html": [
              "<div>\n",
              "<style scoped>\n",
              "    .dataframe tbody tr th:only-of-type {\n",
              "        vertical-align: middle;\n",
              "    }\n",
              "\n",
              "    .dataframe tbody tr th {\n",
              "        vertical-align: top;\n",
              "    }\n",
              "\n",
              "    .dataframe thead th {\n",
              "        text-align: right;\n",
              "    }\n",
              "</style>\n",
              "<table border=\"1\" class=\"dataframe\">\n",
              "  <thead>\n",
              "    <tr style=\"text-align: right;\">\n",
              "      <th></th>\n",
              "      <th>DDX11L1</th>\n",
              "      <th>WASH7P</th>\n",
              "      <th>LOC729737</th>\n",
              "      <th>LOC100133331</th>\n",
              "      <th>LOC100288069</th>\n",
              "      <th>LINC00115</th>\n",
              "      <th>FAM41C</th>\n",
              "      <th>SAMD11</th>\n",
              "      <th>NOC2L</th>\n",
              "      <th>KLHL17</th>\n",
              "      <th>PLEKHN1</th>\n",
              "      <th>HES4</th>\n",
              "      <th>ISG15</th>\n",
              "      <th>AGRN</th>\n",
              "      <th>RNF223</th>\n",
              "      <th>C1orf159</th>\n",
              "      <th>MIR200B</th>\n",
              "      <th>MIR200A</th>\n",
              "      <th>MIR429</th>\n",
              "      <th>TTLL10</th>\n",
              "      <th>TNFRSF18</th>\n",
              "      <th>TNFRSF4</th>\n",
              "      <th>SDF4</th>\n",
              "      <th>B3GALT6</th>\n",
              "      <th>UBE2J2</th>\n",
              "      <th>SCNN1D</th>\n",
              "      <th>ACAP3</th>\n",
              "      <th>PUSL1</th>\n",
              "      <th>TAS1R3</th>\n",
              "      <th>DVL1</th>\n",
              "      <th>MXRA8</th>\n",
              "      <th>AURKAIP1</th>\n",
              "      <th>CCNL2</th>\n",
              "      <th>LOC148413</th>\n",
              "      <th>MRPL20</th>\n",
              "      <th>ANKRD65</th>\n",
              "      <th>TMEM88B</th>\n",
              "      <th>VWA1</th>\n",
              "      <th>ATAD3C</th>\n",
              "      <th>ATAD3B</th>\n",
              "      <th>...</th>\n",
              "      <th>DKC1</th>\n",
              "      <th>SNORA36A</th>\n",
              "      <th>SNORA56</th>\n",
              "      <th>MPP1</th>\n",
              "      <th>SMIM9</th>\n",
              "      <th>F8</th>\n",
              "      <th>F8A1</th>\n",
              "      <th>FUNDC2</th>\n",
              "      <th>CMC4</th>\n",
              "      <th>MTCP1</th>\n",
              "      <th>BRCC3</th>\n",
              "      <th>VBP1</th>\n",
              "      <th>RAB39B</th>\n",
              "      <th>CLIC2</th>\n",
              "      <th>TMLHE-AS1</th>\n",
              "      <th>TMLHE</th>\n",
              "      <th>SPRY3</th>\n",
              "      <th>VAMP7</th>\n",
              "      <th>IL9R</th>\n",
              "      <th>RPS4Y1</th>\n",
              "      <th>ZFY</th>\n",
              "      <th>LINC00278</th>\n",
              "      <th>TGIF2LY</th>\n",
              "      <th>PRKY</th>\n",
              "      <th>GYG2P1</th>\n",
              "      <th>TTTY15</th>\n",
              "      <th>USP9Y</th>\n",
              "      <th>DDX3Y</th>\n",
              "      <th>UTY</th>\n",
              "      <th>TMSB4Y</th>\n",
              "      <th>NLGN4Y</th>\n",
              "      <th>NLGN4Y-AS1</th>\n",
              "      <th>TTTY14</th>\n",
              "      <th>CD24</th>\n",
              "      <th>BCORP1</th>\n",
              "      <th>KDM5D</th>\n",
              "      <th>EIF1AY</th>\n",
              "      <th>RPS4Y2</th>\n",
              "      <th>Cell</th>\n",
              "      <th>Treatment</th>\n",
              "    </tr>\n",
              "    <tr>\n",
              "      <th>!Sample_geo_accession</th>\n",
              "      <th></th>\n",
              "      <th></th>\n",
              "      <th></th>\n",
              "      <th></th>\n",
              "      <th></th>\n",
              "      <th></th>\n",
              "      <th></th>\n",
              "      <th></th>\n",
              "      <th></th>\n",
              "      <th></th>\n",
              "      <th></th>\n",
              "      <th></th>\n",
              "      <th></th>\n",
              "      <th></th>\n",
              "      <th></th>\n",
              "      <th></th>\n",
              "      <th></th>\n",
              "      <th></th>\n",
              "      <th></th>\n",
              "      <th></th>\n",
              "      <th></th>\n",
              "      <th></th>\n",
              "      <th></th>\n",
              "      <th></th>\n",
              "      <th></th>\n",
              "      <th></th>\n",
              "      <th></th>\n",
              "      <th></th>\n",
              "      <th></th>\n",
              "      <th></th>\n",
              "      <th></th>\n",
              "      <th></th>\n",
              "      <th></th>\n",
              "      <th></th>\n",
              "      <th></th>\n",
              "      <th></th>\n",
              "      <th></th>\n",
              "      <th></th>\n",
              "      <th></th>\n",
              "      <th></th>\n",
              "      <th></th>\n",
              "      <th></th>\n",
              "      <th></th>\n",
              "      <th></th>\n",
              "      <th></th>\n",
              "      <th></th>\n",
              "      <th></th>\n",
              "      <th></th>\n",
              "      <th></th>\n",
              "      <th></th>\n",
              "      <th></th>\n",
              "      <th></th>\n",
              "      <th></th>\n",
              "      <th></th>\n",
              "      <th></th>\n",
              "      <th></th>\n",
              "      <th></th>\n",
              "      <th></th>\n",
              "      <th></th>\n",
              "      <th></th>\n",
              "      <th></th>\n",
              "      <th></th>\n",
              "      <th></th>\n",
              "      <th></th>\n",
              "      <th></th>\n",
              "      <th></th>\n",
              "      <th></th>\n",
              "      <th></th>\n",
              "      <th></th>\n",
              "      <th></th>\n",
              "      <th></th>\n",
              "      <th></th>\n",
              "      <th></th>\n",
              "      <th></th>\n",
              "      <th></th>\n",
              "      <th></th>\n",
              "      <th></th>\n",
              "      <th></th>\n",
              "      <th></th>\n",
              "      <th></th>\n",
              "      <th></th>\n",
              "    </tr>\n",
              "  </thead>\n",
              "  <tbody>\n",
              "    <tr>\n",
              "      <th>GSM4432378</th>\n",
              "      <td>0.0</td>\n",
              "      <td>0.000004</td>\n",
              "      <td>0.000014</td>\n",
              "      <td>0.000002</td>\n",
              "      <td>0.000002</td>\n",
              "      <td>0.000001</td>\n",
              "      <td>0.000000e+00</td>\n",
              "      <td>1.409524e-06</td>\n",
              "      <td>0.000227</td>\n",
              "      <td>0.000014</td>\n",
              "      <td>0.000022</td>\n",
              "      <td>0.000003</td>\n",
              "      <td>0.000006</td>\n",
              "      <td>0.000370</td>\n",
              "      <td>8.969700e-07</td>\n",
              "      <td>0.000006</td>\n",
              "      <td>0.0</td>\n",
              "      <td>0.000000e+00</td>\n",
              "      <td>3.844158e-07</td>\n",
              "      <td>0.0</td>\n",
              "      <td>0.000000e+00</td>\n",
              "      <td>0.000000e+00</td>\n",
              "      <td>0.000196</td>\n",
              "      <td>0.000026</td>\n",
              "      <td>0.000035</td>\n",
              "      <td>8.969700e-07</td>\n",
              "      <td>0.000039</td>\n",
              "      <td>0.000010</td>\n",
              "      <td>1.025109e-06</td>\n",
              "      <td>0.000070</td>\n",
              "      <td>0.000002</td>\n",
              "      <td>0.000051</td>\n",
              "      <td>0.000119</td>\n",
              "      <td>0.000025</td>\n",
              "      <td>0.000085</td>\n",
              "      <td>0.000031</td>\n",
              "      <td>0.0</td>\n",
              "      <td>0.000028</td>\n",
              "      <td>0.000001</td>\n",
              "      <td>0.000020</td>\n",
              "      <td>...</td>\n",
              "      <td>0.000145</td>\n",
              "      <td>0.0</td>\n",
              "      <td>2.562772e-07</td>\n",
              "      <td>0.000004</td>\n",
              "      <td>0.0</td>\n",
              "      <td>0.000002</td>\n",
              "      <td>0.000016</td>\n",
              "      <td>0.000064</td>\n",
              "      <td>0.000003</td>\n",
              "      <td>1.793939e-06</td>\n",
              "      <td>0.000083</td>\n",
              "      <td>0.000013</td>\n",
              "      <td>0.000000e+00</td>\n",
              "      <td>3.844158e-07</td>\n",
              "      <td>0.0</td>\n",
              "      <td>0.000018</td>\n",
              "      <td>0.000002</td>\n",
              "      <td>0.000027</td>\n",
              "      <td>0.0</td>\n",
              "      <td>0.0</td>\n",
              "      <td>0.0</td>\n",
              "      <td>0.0</td>\n",
              "      <td>0.0</td>\n",
              "      <td>0.0</td>\n",
              "      <td>0.0</td>\n",
              "      <td>0.0</td>\n",
              "      <td>0.0</td>\n",
              "      <td>0.0</td>\n",
              "      <td>0.0</td>\n",
              "      <td>0.0</td>\n",
              "      <td>0.0</td>\n",
              "      <td>0.0</td>\n",
              "      <td>0.0</td>\n",
              "      <td>0.002382</td>\n",
              "      <td>0.0</td>\n",
              "      <td>0.0</td>\n",
              "      <td>0.0</td>\n",
              "      <td>0.0</td>\n",
              "      <td>NHBE</td>\n",
              "      <td>Mock</td>\n",
              "    </tr>\n",
              "    <tr>\n",
              "      <th>GSM4432379</th>\n",
              "      <td>0.0</td>\n",
              "      <td>0.000003</td>\n",
              "      <td>0.000017</td>\n",
              "      <td>0.000003</td>\n",
              "      <td>0.000002</td>\n",
              "      <td>0.000002</td>\n",
              "      <td>0.000000e+00</td>\n",
              "      <td>2.813116e-06</td>\n",
              "      <td>0.000247</td>\n",
              "      <td>0.000019</td>\n",
              "      <td>0.000024</td>\n",
              "      <td>0.000007</td>\n",
              "      <td>0.000007</td>\n",
              "      <td>0.000503</td>\n",
              "      <td>5.626236e-07</td>\n",
              "      <td>0.000011</td>\n",
              "      <td>0.0</td>\n",
              "      <td>1.406559e-07</td>\n",
              "      <td>1.265903e-06</td>\n",
              "      <td>0.0</td>\n",
              "      <td>0.000000e+00</td>\n",
              "      <td>0.000000e+00</td>\n",
              "      <td>0.000221</td>\n",
              "      <td>0.000023</td>\n",
              "      <td>0.000038</td>\n",
              "      <td>1.406559e-06</td>\n",
              "      <td>0.000048</td>\n",
              "      <td>0.000011</td>\n",
              "      <td>1.406559e-07</td>\n",
              "      <td>0.000092</td>\n",
              "      <td>0.000003</td>\n",
              "      <td>0.000056</td>\n",
              "      <td>0.000157</td>\n",
              "      <td>0.000020</td>\n",
              "      <td>0.000076</td>\n",
              "      <td>0.000042</td>\n",
              "      <td>0.0</td>\n",
              "      <td>0.000038</td>\n",
              "      <td>0.000001</td>\n",
              "      <td>0.000031</td>\n",
              "      <td>...</td>\n",
              "      <td>0.000128</td>\n",
              "      <td>0.0</td>\n",
              "      <td>0.000000e+00</td>\n",
              "      <td>0.000003</td>\n",
              "      <td>0.0</td>\n",
              "      <td>0.000002</td>\n",
              "      <td>0.000015</td>\n",
              "      <td>0.000059</td>\n",
              "      <td>0.000003</td>\n",
              "      <td>7.032795e-07</td>\n",
              "      <td>0.000078</td>\n",
              "      <td>0.000018</td>\n",
              "      <td>0.000000e+00</td>\n",
              "      <td>2.813118e-07</td>\n",
              "      <td>0.0</td>\n",
              "      <td>0.000017</td>\n",
              "      <td>0.000001</td>\n",
              "      <td>0.000029</td>\n",
              "      <td>0.0</td>\n",
              "      <td>0.0</td>\n",
              "      <td>0.0</td>\n",
              "      <td>0.0</td>\n",
              "      <td>0.0</td>\n",
              "      <td>0.0</td>\n",
              "      <td>0.0</td>\n",
              "      <td>0.0</td>\n",
              "      <td>0.0</td>\n",
              "      <td>0.0</td>\n",
              "      <td>0.0</td>\n",
              "      <td>0.0</td>\n",
              "      <td>0.0</td>\n",
              "      <td>0.0</td>\n",
              "      <td>0.0</td>\n",
              "      <td>0.002818</td>\n",
              "      <td>0.0</td>\n",
              "      <td>0.0</td>\n",
              "      <td>0.0</td>\n",
              "      <td>0.0</td>\n",
              "      <td>NHBE</td>\n",
              "      <td>Mock</td>\n",
              "    </tr>\n",
              "    <tr>\n",
              "      <th>GSM4432380</th>\n",
              "      <td>0.0</td>\n",
              "      <td>0.000002</td>\n",
              "      <td>0.000010</td>\n",
              "      <td>0.000003</td>\n",
              "      <td>0.000002</td>\n",
              "      <td>0.000002</td>\n",
              "      <td>8.689961e-08</td>\n",
              "      <td>6.951967e-07</td>\n",
              "      <td>0.000222</td>\n",
              "      <td>0.000011</td>\n",
              "      <td>0.000022</td>\n",
              "      <td>0.000005</td>\n",
              "      <td>0.000004</td>\n",
              "      <td>0.000360</td>\n",
              "      <td>7.820963e-07</td>\n",
              "      <td>0.000007</td>\n",
              "      <td>0.0</td>\n",
              "      <td>2.606988e-07</td>\n",
              "      <td>1.216594e-06</td>\n",
              "      <td>0.0</td>\n",
              "      <td>8.689961e-08</td>\n",
              "      <td>0.000000e+00</td>\n",
              "      <td>0.000172</td>\n",
              "      <td>0.000019</td>\n",
              "      <td>0.000036</td>\n",
              "      <td>1.737991e-06</td>\n",
              "      <td>0.000041</td>\n",
              "      <td>0.000011</td>\n",
              "      <td>3.475984e-07</td>\n",
              "      <td>0.000066</td>\n",
              "      <td>0.000001</td>\n",
              "      <td>0.000055</td>\n",
              "      <td>0.000118</td>\n",
              "      <td>0.000021</td>\n",
              "      <td>0.000064</td>\n",
              "      <td>0.000033</td>\n",
              "      <td>0.0</td>\n",
              "      <td>0.000028</td>\n",
              "      <td>0.000002</td>\n",
              "      <td>0.000025</td>\n",
              "      <td>...</td>\n",
              "      <td>0.000135</td>\n",
              "      <td>0.0</td>\n",
              "      <td>0.000000e+00</td>\n",
              "      <td>0.000006</td>\n",
              "      <td>0.0</td>\n",
              "      <td>0.000003</td>\n",
              "      <td>0.000012</td>\n",
              "      <td>0.000058</td>\n",
              "      <td>0.000004</td>\n",
              "      <td>1.303494e-06</td>\n",
              "      <td>0.000091</td>\n",
              "      <td>0.000033</td>\n",
              "      <td>0.000000e+00</td>\n",
              "      <td>2.606988e-07</td>\n",
              "      <td>0.0</td>\n",
              "      <td>0.000016</td>\n",
              "      <td>0.000003</td>\n",
              "      <td>0.000038</td>\n",
              "      <td>0.0</td>\n",
              "      <td>0.0</td>\n",
              "      <td>0.0</td>\n",
              "      <td>0.0</td>\n",
              "      <td>0.0</td>\n",
              "      <td>0.0</td>\n",
              "      <td>0.0</td>\n",
              "      <td>0.0</td>\n",
              "      <td>0.0</td>\n",
              "      <td>0.0</td>\n",
              "      <td>0.0</td>\n",
              "      <td>0.0</td>\n",
              "      <td>0.0</td>\n",
              "      <td>0.0</td>\n",
              "      <td>0.0</td>\n",
              "      <td>0.003150</td>\n",
              "      <td>0.0</td>\n",
              "      <td>0.0</td>\n",
              "      <td>0.0</td>\n",
              "      <td>0.0</td>\n",
              "      <td>NHBE</td>\n",
              "      <td>Mock</td>\n",
              "    </tr>\n",
              "    <tr>\n",
              "      <th>GSM4432381</th>\n",
              "      <td>0.0</td>\n",
              "      <td>0.000005</td>\n",
              "      <td>0.000018</td>\n",
              "      <td>0.000002</td>\n",
              "      <td>0.000003</td>\n",
              "      <td>0.000002</td>\n",
              "      <td>0.000000e+00</td>\n",
              "      <td>3.679207e-06</td>\n",
              "      <td>0.000271</td>\n",
              "      <td>0.000024</td>\n",
              "      <td>0.000026</td>\n",
              "      <td>0.000004</td>\n",
              "      <td>0.000012</td>\n",
              "      <td>0.000521</td>\n",
              "      <td>8.490485e-07</td>\n",
              "      <td>0.000012</td>\n",
              "      <td>0.0</td>\n",
              "      <td>4.245243e-07</td>\n",
              "      <td>4.245243e-07</td>\n",
              "      <td>0.0</td>\n",
              "      <td>1.415081e-07</td>\n",
              "      <td>1.415081e-07</td>\n",
              "      <td>0.000260</td>\n",
              "      <td>0.000018</td>\n",
              "      <td>0.000039</td>\n",
              "      <td>1.698097e-06</td>\n",
              "      <td>0.000051</td>\n",
              "      <td>0.000015</td>\n",
              "      <td>0.000000e+00</td>\n",
              "      <td>0.000104</td>\n",
              "      <td>0.000004</td>\n",
              "      <td>0.000073</td>\n",
              "      <td>0.000148</td>\n",
              "      <td>0.000022</td>\n",
              "      <td>0.000073</td>\n",
              "      <td>0.000036</td>\n",
              "      <td>0.0</td>\n",
              "      <td>0.000051</td>\n",
              "      <td>0.000002</td>\n",
              "      <td>0.000041</td>\n",
              "      <td>...</td>\n",
              "      <td>0.000136</td>\n",
              "      <td>0.0</td>\n",
              "      <td>1.415081e-07</td>\n",
              "      <td>0.000004</td>\n",
              "      <td>0.0</td>\n",
              "      <td>0.000002</td>\n",
              "      <td>0.000013</td>\n",
              "      <td>0.000067</td>\n",
              "      <td>0.000002</td>\n",
              "      <td>1.132065e-06</td>\n",
              "      <td>0.000065</td>\n",
              "      <td>0.000015</td>\n",
              "      <td>2.830162e-07</td>\n",
              "      <td>2.830162e-07</td>\n",
              "      <td>0.0</td>\n",
              "      <td>0.000011</td>\n",
              "      <td>0.000003</td>\n",
              "      <td>0.000025</td>\n",
              "      <td>0.0</td>\n",
              "      <td>0.0</td>\n",
              "      <td>0.0</td>\n",
              "      <td>0.0</td>\n",
              "      <td>0.0</td>\n",
              "      <td>0.0</td>\n",
              "      <td>0.0</td>\n",
              "      <td>0.0</td>\n",
              "      <td>0.0</td>\n",
              "      <td>0.0</td>\n",
              "      <td>0.0</td>\n",
              "      <td>0.0</td>\n",
              "      <td>0.0</td>\n",
              "      <td>0.0</td>\n",
              "      <td>0.0</td>\n",
              "      <td>0.002211</td>\n",
              "      <td>0.0</td>\n",
              "      <td>0.0</td>\n",
              "      <td>0.0</td>\n",
              "      <td>0.0</td>\n",
              "      <td>NHBE</td>\n",
              "      <td>SARS-CoV-2</td>\n",
              "    </tr>\n",
              "    <tr>\n",
              "      <th>GSM4432382</th>\n",
              "      <td>0.0</td>\n",
              "      <td>0.000003</td>\n",
              "      <td>0.000012</td>\n",
              "      <td>0.000003</td>\n",
              "      <td>0.000001</td>\n",
              "      <td>0.000001</td>\n",
              "      <td>1.456679e-07</td>\n",
              "      <td>1.456678e-06</td>\n",
              "      <td>0.000234</td>\n",
              "      <td>0.000011</td>\n",
              "      <td>0.000017</td>\n",
              "      <td>0.000002</td>\n",
              "      <td>0.000007</td>\n",
              "      <td>0.000299</td>\n",
              "      <td>5.826714e-07</td>\n",
              "      <td>0.000005</td>\n",
              "      <td>0.0</td>\n",
              "      <td>1.456679e-07</td>\n",
              "      <td>2.913357e-07</td>\n",
              "      <td>0.0</td>\n",
              "      <td>0.000000e+00</td>\n",
              "      <td>0.000000e+00</td>\n",
              "      <td>0.000179</td>\n",
              "      <td>0.000021</td>\n",
              "      <td>0.000034</td>\n",
              "      <td>1.165343e-06</td>\n",
              "      <td>0.000037</td>\n",
              "      <td>0.000008</td>\n",
              "      <td>0.000000e+00</td>\n",
              "      <td>0.000058</td>\n",
              "      <td>0.000002</td>\n",
              "      <td>0.000052</td>\n",
              "      <td>0.000126</td>\n",
              "      <td>0.000018</td>\n",
              "      <td>0.000072</td>\n",
              "      <td>0.000025</td>\n",
              "      <td>0.0</td>\n",
              "      <td>0.000024</td>\n",
              "      <td>0.000002</td>\n",
              "      <td>0.000025</td>\n",
              "      <td>...</td>\n",
              "      <td>0.000158</td>\n",
              "      <td>0.0</td>\n",
              "      <td>0.000000e+00</td>\n",
              "      <td>0.000004</td>\n",
              "      <td>0.0</td>\n",
              "      <td>0.000001</td>\n",
              "      <td>0.000018</td>\n",
              "      <td>0.000062</td>\n",
              "      <td>0.000002</td>\n",
              "      <td>8.740071e-07</td>\n",
              "      <td>0.000082</td>\n",
              "      <td>0.000016</td>\n",
              "      <td>0.000000e+00</td>\n",
              "      <td>0.000000e+00</td>\n",
              "      <td>0.0</td>\n",
              "      <td>0.000017</td>\n",
              "      <td>0.000004</td>\n",
              "      <td>0.000028</td>\n",
              "      <td>0.0</td>\n",
              "      <td>0.0</td>\n",
              "      <td>0.0</td>\n",
              "      <td>0.0</td>\n",
              "      <td>0.0</td>\n",
              "      <td>0.0</td>\n",
              "      <td>0.0</td>\n",
              "      <td>0.0</td>\n",
              "      <td>0.0</td>\n",
              "      <td>0.0</td>\n",
              "      <td>0.0</td>\n",
              "      <td>0.0</td>\n",
              "      <td>0.0</td>\n",
              "      <td>0.0</td>\n",
              "      <td>0.0</td>\n",
              "      <td>0.002345</td>\n",
              "      <td>0.0</td>\n",
              "      <td>0.0</td>\n",
              "      <td>0.0</td>\n",
              "      <td>0.0</td>\n",
              "      <td>NHBE</td>\n",
              "      <td>SARS-CoV-2</td>\n",
              "    </tr>\n",
              "  </tbody>\n",
              "</table>\n",
              "<p>5 rows × 19084 columns</p>\n",
              "</div>"
            ],
            "text/plain": [
              "                       DDX11L1    WASH7P  LOC729737  ...  RPS4Y2  Cell   Treatment\n",
              "!Sample_geo_accession                                ...                          \n",
              "GSM4432378                 0.0  0.000004   0.000014  ...     0.0  NHBE        Mock\n",
              "GSM4432379                 0.0  0.000003   0.000017  ...     0.0  NHBE        Mock\n",
              "GSM4432380                 0.0  0.000002   0.000010  ...     0.0  NHBE        Mock\n",
              "GSM4432381                 0.0  0.000005   0.000018  ...     0.0  NHBE  SARS-CoV-2\n",
              "GSM4432382                 0.0  0.000003   0.000012  ...     0.0  NHBE  SARS-CoV-2\n",
              "\n",
              "[5 rows x 19084 columns]"
            ]
          },
          "metadata": {
            "tags": []
          },
          "execution_count": 54
        }
      ]
    },
    {
      "cell_type": "code",
      "metadata": {
        "id": "v7ISjKvlELEy"
      },
      "source": [
        "good_columns = [x for x in data_stat.columns if ('-' not in x)&('.' not in x)]"
      ],
      "execution_count": 60,
      "outputs": []
    },
    {
      "cell_type": "code",
      "metadata": {
        "id": "9h3zyNipEU-Z"
      },
      "source": [
        "data_stat = data_stat[good_columns]"
      ],
      "execution_count": 61,
      "outputs": []
    },
    {
      "cell_type": "code",
      "metadata": {
        "id": "wycYN0tbDohJ"
      },
      "source": [
        "results = pd.DataFrame(index=data_stat.columns[0:-2],\n",
        "                       columns=['Pval', 'Param'])"
      ],
      "execution_count": 62,
      "outputs": []
    },
    {
      "cell_type": "code",
      "metadata": {
        "id": "IY8SMpyyC6x2"
      },
      "source": [
        "### takes a few minutes\n",
        "for gene in data_stat.columns[0:-2]:\n",
        "  model = smf.ols(gene + ' ~ Cell + Treatment', data=data_stat).fit()\n",
        "  results.loc[gene] = model.pvalues['Treatment[T.SARS-CoV-2]'], model.params['Treatment[T.SARS-CoV-2]']"
      ],
      "execution_count": 63,
      "outputs": []
    },
    {
      "cell_type": "code",
      "metadata": {
        "colab": {
          "base_uri": "https://localhost:8080/"
        },
        "id": "SGpjdm7eE1jc",
        "outputId": "514cb5e9-a088-4073-ec8d-992bf50cfa4c"
      },
      "source": [
        "#### you can see some immune related genes in the most significantly diferentially expressed genes\n",
        "results['Pval'].sort_values().head(20)"
      ],
      "execution_count": 64,
      "outputs": [
        {
          "output_type": "execute_result",
          "data": {
            "text/plain": [
              "SOD2         3.27327e-11\n",
              "NFKB1        5.92577e-10\n",
              "PRDM1        2.23405e-09\n",
              "TNFAIP3       2.6665e-09\n",
              "ZC3H12C       1.4681e-08\n",
              "TGM2         2.97442e-08\n",
              "CDCP1        5.51466e-08\n",
              "DRAM1        8.33446e-08\n",
              "PEBP1        1.01272e-07\n",
              "TNIP1         1.1051e-07\n",
              "IRF9         1.55259e-07\n",
              "IRAK2        1.66569e-07\n",
              "RAB40B       1.78586e-07\n",
              "TRIM25       2.15561e-07\n",
              "WTAP         3.38603e-07\n",
              "COMMD9       3.40987e-07\n",
              "PDZD11       3.73934e-07\n",
              "TNFRSF10B    3.76113e-07\n",
              "SLC38A10     4.10459e-07\n",
              "BPGM         4.15498e-07\n",
              "Name: Pval, dtype: object"
            ]
          },
          "metadata": {
            "tags": []
          },
          "execution_count": 64
        }
      ]
    },
    {
      "cell_type": "markdown",
      "metadata": {
        "id": "bdSTGNh0YvaT"
      },
      "source": [
        "### Homework\n",
        "\n",
        "* Calculate coefficients (for SARS-CoV-2 treatment) for Calu-3 and A549 cells, and plot them (scatter plot) against each other. This will show us how similar are the response of these cells to infection. You will have to filter for these data (have 2 DataFrames, containing Mock and SARS-CoV-2 infected samples, and either Calu-3 or A549 cell lines), and run a statistical model with only 'Treatment' factor (basically it is a t-test).\n",
        "* Please upload this notbook (your_name.ipynb) to the Week6 folder (you should have write access to this, if not please let me know)\n",
        "* install [DESeq2](https://bioconductor.org/packages/release/bioc/html/DESeq2.html) library in R."
      ]
    },
    {
      "cell_type": "code",
      "metadata": {
        "id": "amrEjG6CYwxP"
      },
      "source": [
        ""
      ],
      "execution_count": null,
      "outputs": []
    }
  ]
}